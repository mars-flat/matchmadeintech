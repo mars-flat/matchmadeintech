{
 "cells": [
  {
   "cell_type": "code",
   "execution_count": 1,
   "metadata": {},
   "outputs": [],
   "source": [
    "import pandas as pd\n",
    "import matplotlib.pyplot as plt\n",
    "import pickle\n",
    "from sklearn.preprocessing import StandardScaler\n",
    "from sklearn.cluster import KMeans\n",
    "from sklearn.preprocessing import FunctionTransformer"
   ]
  },
  {
   "cell_type": "markdown",
   "metadata": {},
   "source": [
    "## Read Data From File"
   ]
  },
  {
   "cell_type": "code",
   "execution_count": 7,
   "metadata": {},
   "outputs": [],
   "source": [
    "data = pd.read_csv('../data/training_data.csv', index_col=0)\n",
    "data.fillna(0, inplace=True)"
   ]
  },
  {
   "cell_type": "code",
   "execution_count": 8,
   "metadata": {},
   "outputs": [
    {
     "data": {
      "text/html": [
       "<div>\n",
       "<style scoped>\n",
       "    .dataframe tbody tr th:only-of-type {\n",
       "        vertical-align: middle;\n",
       "    }\n",
       "\n",
       "    .dataframe tbody tr th {\n",
       "        vertical-align: top;\n",
       "    }\n",
       "\n",
       "    .dataframe thead th {\n",
       "        text-align: right;\n",
       "    }\n",
       "</style>\n",
       "<table border=\"1\" class=\"dataframe\">\n",
       "  <thead>\n",
       "    <tr style=\"text-align: right;\">\n",
       "      <th></th>\n",
       "      <th>Username</th>\n",
       "      <th>Id</th>\n",
       "      <th>Contributions</th>\n",
       "      <th>JavaScript</th>\n",
       "      <th>Python</th>\n",
       "      <th>Java</th>\n",
       "      <th>C#</th>\n",
       "      <th>PHP</th>\n",
       "      <th>TypeScript</th>\n",
       "      <th>Ruby</th>\n",
       "      <th>...</th>\n",
       "      <th>Dart</th>\n",
       "      <th>Vue</th>\n",
       "      <th>Assembly</th>\n",
       "      <th>Sass</th>\n",
       "      <th>CSS</th>\n",
       "      <th>HTML</th>\n",
       "      <th>Pascal</th>\n",
       "      <th>Racket</th>\n",
       "      <th>Zig</th>\n",
       "      <th>Other</th>\n",
       "    </tr>\n",
       "  </thead>\n",
       "  <tbody>\n",
       "    <tr>\n",
       "      <th>mojombo</th>\n",
       "      <td>1</td>\n",
       "      <td>79</td>\n",
       "      <td>0</td>\n",
       "      <td>1970379</td>\n",
       "      <td>0</td>\n",
       "      <td>0</td>\n",
       "      <td>0</td>\n",
       "      <td>0</td>\n",
       "      <td>2566242</td>\n",
       "      <td>928419</td>\n",
       "      <td>...</td>\n",
       "      <td>0</td>\n",
       "      <td>0</td>\n",
       "      <td>0</td>\n",
       "      <td>0</td>\n",
       "      <td>7758</td>\n",
       "      <td>17442</td>\n",
       "      <td>0</td>\n",
       "      <td>0</td>\n",
       "      <td>0</td>\n",
       "      <td>240167</td>\n",
       "    </tr>\n",
       "    <tr>\n",
       "      <th>defunkt</th>\n",
       "      <td>2</td>\n",
       "      <td>1</td>\n",
       "      <td>0</td>\n",
       "      <td>4609687</td>\n",
       "      <td>0</td>\n",
       "      <td>0</td>\n",
       "      <td>0</td>\n",
       "      <td>0</td>\n",
       "      <td>0</td>\n",
       "      <td>470103</td>\n",
       "      <td>...</td>\n",
       "      <td>0</td>\n",
       "      <td>0</td>\n",
       "      <td>0</td>\n",
       "      <td>0</td>\n",
       "      <td>6399</td>\n",
       "      <td>23938</td>\n",
       "      <td>0</td>\n",
       "      <td>0</td>\n",
       "      <td>0</td>\n",
       "      <td>896415</td>\n",
       "    </tr>\n",
       "    <tr>\n",
       "      <th>wycats</th>\n",
       "      <td>4</td>\n",
       "      <td>358</td>\n",
       "      <td>0</td>\n",
       "      <td>3378185</td>\n",
       "      <td>0</td>\n",
       "      <td>0</td>\n",
       "      <td>0</td>\n",
       "      <td>0</td>\n",
       "      <td>2687760</td>\n",
       "      <td>952</td>\n",
       "      <td>...</td>\n",
       "      <td>0</td>\n",
       "      <td>0</td>\n",
       "      <td>0</td>\n",
       "      <td>0</td>\n",
       "      <td>21641</td>\n",
       "      <td>441513</td>\n",
       "      <td>0</td>\n",
       "      <td>0</td>\n",
       "      <td>0</td>\n",
       "      <td>3060</td>\n",
       "    </tr>\n",
       "    <tr>\n",
       "      <th>brynary</th>\n",
       "      <td>19</td>\n",
       "      <td>3481</td>\n",
       "      <td>0</td>\n",
       "      <td>11661</td>\n",
       "      <td>0</td>\n",
       "      <td>0</td>\n",
       "      <td>0</td>\n",
       "      <td>0</td>\n",
       "      <td>0</td>\n",
       "      <td>951748</td>\n",
       "      <td>...</td>\n",
       "      <td>0</td>\n",
       "      <td>0</td>\n",
       "      <td>0</td>\n",
       "      <td>0</td>\n",
       "      <td>0</td>\n",
       "      <td>17954</td>\n",
       "      <td>0</td>\n",
       "      <td>0</td>\n",
       "      <td>0</td>\n",
       "      <td>3142</td>\n",
       "    </tr>\n",
       "    <tr>\n",
       "      <th>kevinclark</th>\n",
       "      <td>20</td>\n",
       "      <td>18</td>\n",
       "      <td>0</td>\n",
       "      <td>0</td>\n",
       "      <td>0</td>\n",
       "      <td>0</td>\n",
       "      <td>0</td>\n",
       "      <td>0</td>\n",
       "      <td>0</td>\n",
       "      <td>43311</td>\n",
       "      <td>...</td>\n",
       "      <td>0</td>\n",
       "      <td>0</td>\n",
       "      <td>0</td>\n",
       "      <td>0</td>\n",
       "      <td>0</td>\n",
       "      <td>0</td>\n",
       "      <td>0</td>\n",
       "      <td>0</td>\n",
       "      <td>0</td>\n",
       "      <td>8688</td>\n",
       "    </tr>\n",
       "  </tbody>\n",
       "</table>\n",
       "<p>5 rows × 31 columns</p>\n",
       "</div>"
      ],
      "text/plain": [
       "            Username    Id  Contributions  JavaScript  Python  Java  C#  PHP  \\\n",
       "mojombo            1    79              0     1970379       0     0   0    0   \n",
       "defunkt            2     1              0     4609687       0     0   0    0   \n",
       "wycats             4   358              0     3378185       0     0   0    0   \n",
       "brynary           19  3481              0       11661       0     0   0    0   \n",
       "kevinclark        20    18              0           0       0     0   0    0   \n",
       "\n",
       "            TypeScript    Ruby  ...  Dart  Vue  Assembly  Sass    CSS    HTML  \\\n",
       "mojombo        2566242  928419  ...     0    0         0     0   7758   17442   \n",
       "defunkt              0  470103  ...     0    0         0     0   6399   23938   \n",
       "wycats         2687760     952  ...     0    0         0     0  21641  441513   \n",
       "brynary              0  951748  ...     0    0         0     0      0   17954   \n",
       "kevinclark           0   43311  ...     0    0         0     0      0       0   \n",
       "\n",
       "            Pascal  Racket  Zig   Other  \n",
       "mojombo          0       0    0  240167  \n",
       "defunkt          0       0    0  896415  \n",
       "wycats           0       0    0    3060  \n",
       "brynary          0       0    0    3142  \n",
       "kevinclark       0       0    0    8688  \n",
       "\n",
       "[5 rows x 31 columns]"
      ]
     },
     "execution_count": 8,
     "metadata": {},
     "output_type": "execute_result"
    }
   ],
   "source": [
    "data.head()"
   ]
  },
  {
   "cell_type": "code",
   "execution_count": null,
   "metadata": {},
   "outputs": [],
   "source": [
    "data.describe()"
   ]
  },
  {
   "cell_type": "code",
   "execution_count": null,
   "metadata": {},
   "outputs": [],
   "source": [
    "data.mean()"
   ]
  },
  {
   "cell_type": "code",
   "execution_count": null,
   "metadata": {},
   "outputs": [],
   "source": [
    "data.info()"
   ]
  },
  {
   "cell_type": "markdown",
   "metadata": {},
   "source": [
    "## Transform Data"
   ]
  },
  {
   "cell_type": "markdown",
   "metadata": {},
   "source": [
    "#### 1. Make the bytes into percentages"
   ]
  },
  {
   "cell_type": "code",
   "execution_count": null,
   "metadata": {},
   "outputs": [],
   "source": [
    "col = [\"Id\", \"Contributions\", \"JavaScript\", \"Python\", \"Java\", \"C#\", \"PHP\", \"TypeScript\", \"Ruby\", \"C++\", \"C\", \"Swift\", \"Go\", \"Shell\", \"Kotlin\", \"Rust\", \"PowerShell\", \"Objective-C\", \"R\", \"MATLAB\", \"Dart\", \"Vue\", \"Assembly\", \"Sass\", \"CSS\", \"HTML\", \"Pascal\", \"Racket\", \"Zig\", \"Other\"]\n",
    "tcols = [x + '-T' for x in col]\n",
    "def turn_to_percent(X, columns):\n",
    "    X[columns] = X[columns].div(X[columns].sum(axis=1), axis=0)\n",
    "    return X\n",
    "\n",
    "# Create a FunctionTransformer using the defined function and pass the subset_columns argument\n",
    "transformer = FunctionTransformer(turn_to_percent, validate=False, kw_args={'columns': col[2:]})\n",
    "\n",
    "# Apply the transformation to your dataset\n",
    "data = transformer.transform(data)\n",
    "data"
   ]
  },
  {
   "cell_type": "markdown",
   "metadata": {},
   "source": [
    "#### 2. Standardize the data using a StandardScaler"
   ]
  },
  {
   "cell_type": "code",
   "execution_count": null,
   "metadata": {},
   "outputs": [],
   "source": [
    "scaler = StandardScaler()\n",
    "\n",
    "data[tcols] = scaler.fit_transform(data[col])\n",
    "data.head()"
   ]
  },
  {
   "cell_type": "markdown",
   "metadata": {},
   "source": [
    "#### 3. Determine Number of Clusters"
   ]
  },
  {
   "cell_type": "code",
   "execution_count": null,
   "metadata": {},
   "outputs": [],
   "source": [
    "def optimize_kmeans(data, max_k):\n",
    "    inertia = []\n",
    "    for k in range(1, max_k):\n",
    "        kmeans = KMeans(n_clusters=k, random_state=0).fit(data)\n",
    "        inertia.append(kmeans.inertia_)\n",
    "    \n",
    "    # generate elbow\n",
    "    fig = plt.figure(figsize=(10, 5))\n",
    "    plt.plot(range(1, max_k), inertia)\n",
    "    plt.xlabel('k')\n",
    "    plt.ylabel('inertia')\n",
    "    plt.title('Elbow Method')\n",
    "    plt.show()"
   ]
  },
  {
   "cell_type": "code",
   "execution_count": null,
   "metadata": {},
   "outputs": [],
   "source": [
    "optimize_kmeans(data[tcols], 40)"
   ]
  },
  {
   "cell_type": "markdown",
   "metadata": {},
   "source": [
    "#### 4 Apply K-Means Clustering"
   ]
  },
  {
   "cell_type": "code",
   "execution_count": null,
   "metadata": {},
   "outputs": [],
   "source": [
    "kmeans = KMeans(n_clusters=25, random_state=0).fit(data[tcols])\n",
    "data['cluster'] = kmeans.labels_\n",
    "data.head()"
   ]
  },
  {
   "cell_type": "markdown",
   "metadata": {},
   "source": [
    "## Write K-Means Model to File"
   ]
  },
  {
   "cell_type": "code",
   "execution_count": null,
   "metadata": {},
   "outputs": [],
   "source": [
    "with open('../data/kmeansmodel.pkl', 'wb') as f:\n",
    "    pickle.dump(kmeans, f)"
   ]
  },
  {
   "cell_type": "markdown",
   "metadata": {},
   "source": [
    "## Write Means to File"
   ]
  },
  {
   "cell_type": "code",
   "execution_count": null,
   "metadata": {},
   "outputs": [],
   "source": [
    "mean = data.mean()\n",
    "std = data.std()\n",
    "with open(\"../data/meanAndStd.csv\", \"w\") as f:\n",
    "    f.write(\",\".join([x for x in col]) + \"\\n\")\n",
    "    f.write(\",\".join([str(mean[x]) for x in col]) + \"\\n\")\n",
    "    f.write(\",\".join([str(std[x]) for x in col]) + \"\\n\")\n"
   ]
  },
  {
   "cell_type": "code",
   "execution_count": null,
   "metadata": {},
   "outputs": [],
   "source": [
    "data.columns"
   ]
  }
 ],
 "metadata": {
  "kernelspec": {
   "display_name": "venv",
   "language": "python",
   "name": "python3"
  },
  "language_info": {
   "codemirror_mode": {
    "name": "ipython",
    "version": 3
   },
   "file_extension": ".py",
   "mimetype": "text/x-python",
   "name": "python",
   "nbconvert_exporter": "python",
   "pygments_lexer": "ipython3",
   "version": "3.10.7"
  },
  "orig_nbformat": 4
 },
 "nbformat": 4,
 "nbformat_minor": 2
}
